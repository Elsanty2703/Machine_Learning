{
 "cells": [
  {
   "metadata": {},
   "cell_type": "markdown",
   "source": [
    "# Implementación de una IA interactiva con el método de Gradiente Descendente\n",
    "## Pontificia Universidad Javeriana\n",
    "### Estudiante: Helver Santiago Gamboa Pacheco\n",
    "### Profesor: Alexander Caicedo Dorado\n",
    "En esta tarea se implementa el método de **Gradiente Descendente** para\n",
    "entrenar un modelo de regresión lineal. Se utilizará un dataset de\n",
    "precios de vivienda y se explorará cómo el aprendizaje depende de la\n",
    "tasa de aprendizaje (η). Además, se mostrarán las gráficas de\n",
    "convergencia y de comparación entre datos reales y predichos."
   ]
  },
  {
   "metadata": {},
   "cell_type": "code",
   "source": [
    "import numpy as np\n",
    "import pandas as pd\n",
    "import matplotlib.pyplot as plt\n",
    "from sklearn.preprocessing import StandardScaler\n",
    "from ipywidgets import interact, IntSlider\n",
    "from sklearn.metrics import mean_squared_error, mean_absolute_error, r2_score\n",
    "from IPython.display import display"
   ],
   "execution_count": null,
   "outputs": []
  },
  {
   "metadata": {},
   "cell_type": "markdown",
   "source": [
    "### Cargar datos\n",
    "En este paso cargamos el archivo de Excel que contiene la información\n",
    "de precios de vivienda y seleccionamos las variables de entrada (X)\n",
    "y la variable objetivo (Y). También mostramos una tabla con los datos\n",
    "en grupos de 10 filas usando un deslizador interactivo."
   ]
  },
  {
   "metadata": {},
   "cell_type": "code",
   "source": [
    "# Carga el Excel\n",
    "df = pd.read_excel(\"Datos.xlsx\")\n",
    "\n",
    "# Función para mostrar filas en bloques de 10\n",
    "def mostrar_filas(inicio=0):\n",
    "    fin = inicio + 10\n",
    "    display(df.iloc[inicio:fin])\n",
    "\n",
    "# Deslizador para mostrar los datos en grupos de 10 filas\n",
    "interact(mostrar_filas, inicio=IntSlider(min=0, max=len(df)-10, step=10, value=0))\n",
    "\n",
    "# Columnas de características y target\n",
    "columnas_caracteristicas = [\n",
    "    \"X1 transaction date\",\n",
    "    \"X2 house age\",\n",
    "    \"X3 distance to the nearest MRT station\",\n",
    "    \"X4 number of convenience stores\",\n",
    "    \"X5 latitude\",\n",
    "    \"X6 longitude\"\n",
    "]\n",
    "columna_target = \"Y house price of unit area\"\n",
    "\n",
    "# Matriz de características (normalizada)\n",
    "scaler = StandardScaler()\n",
    "A_sin_bias = scaler.fit_transform(df[columnas_caracteristicas].values)\n",
    "\n",
    "# Agregar columna de unos (bias)\n",
    "A = np.c_[np.ones(len(df)), A_sin_bias]\n",
    "\n",
    "# Vector objetivo\n",
    "y = df[columna_target].values.reshape(-1, 1)\n",
    "\n",
    "m, n = A.shape\n",
    "print(\"Muestras:\", m, \"Características (incluido bias):\", n)"
   ],
   "execution_count": null,
   "outputs": []
  },
  {
   "metadata": {},
   "cell_type": "markdown",
   "source": [
    "### Funciones del modelo\n",
    "A continuación se definen las funciones necesarias:\n",
    "- Hipótesis lineal\n",
    "- Cálculo del costo\n",
    "- Gradiente\n",
    "- Gradiente Descendente"
   ]
  },
  {
   "metadata": {},
   "cell_type": "code",
   "source": [
    "def hipotesis(teta, A):\n",
    "    return A @ teta\n",
    "\n",
    "def costo(teta, A, y):\n",
    "    m = len(y)\n",
    "    return (1/(2*m)) * np.sum((hipotesis(teta, A) - y)**2)\n",
    "\n",
    "def gradiente(teta, A, y):\n",
    "    m = len(y)\n",
    "    return (1/m) * (A.T @ (hipotesis(teta, A) - y))\n",
    "\n",
    "def gradiente_descendente(A, y, alpha, iteraciones):\n",
    "    teta = np.zeros((A.shape[1], 1))\n",
    "    historial_costos = []\n",
    "\n",
    "    for i in range(iteraciones):\n",
    "        teta -= alpha * gradiente(teta, A, y)\n",
    "        historial_costos.append(costo(teta, A, y))\n",
    "\n",
    "    return teta, historial_costos"
   ],
   "execution_count": null,
   "outputs": []
  },
  {
   "metadata": {},
   "cell_type": "markdown",
   "source": [
    "### Entrenamiento con Gradiente Descendente\n",
    "Se ejecuta el algoritmo de gradiente descendente para un número de\n",
    "iteraciones determinado, y se guarda la evolución del costo en cada paso."
   ]
  },
  {
   "metadata": {},
   "cell_type": "code",
   "source": [
    "def entrenar_y_medir(alpha=0.01, iteraciones=100):\n",
    "    # Entrenamos el modelo con los parámetros dados\n",
    "    teta_final, historial_costos = gradiente_descendente(A, y, alpha=alpha, iteraciones=iteraciones)\n",
    "    y_pred = hipotesis(teta_final, A)\n",
    "\n",
    "    # Métricas de calidad\n",
    "    mse = mean_squared_error(y, y_pred)\n",
    "    rmse = np.sqrt(mse)\n",
    "    mae = mean_absolute_error(y, y_pred)\n",
    "    r2 = r2_score(y, y_pred)\n",
    "\n",
    "    # Mostrar resultados\n",
    "    print(\"===== Calidad del modelo =====\")\n",
    "    print(f\"RMSE: {rmse:.2f}\")\n",
    "    print(f\"R²  : {r2:.4f}\")\n",
    "\n",
    "    # Graficamos la convergencia de la función de costo\n",
    "    plt.figure(figsize=(12,5))\n",
    "\n",
    "    plt.subplot(1,2,1)\n",
    "    plt.plot(historial_costos, color=\"blue\")\n",
    "    plt.xlabel(\"Iteraciones\")\n",
    "    plt.ylabel(\"Costo (MSE)\")\n",
    "    plt.title(\"Evolución de la función de costo\")\n",
    "\n",
    "    # Gráfico de comparación real vs predicho\n",
    "    plt.subplot(1,2,2)\n",
    "    plt.scatter(y, y_pred, alpha=0.6, color=\"green\", label=\"Predicciones\")\n",
    "    plt.plot([y.min(), y.max()], [y.min(), y.max()], \"r--\", lw=2, label=\"Ideal\")\n",
    "    plt.xlabel(\"Valores reales\")\n",
    "    plt.ylabel(\"Valores predichos\")\n",
    "    plt.title(\"Comparación Real vs Predicho\")\n",
    "    plt.legend()\n",
    "\n",
    "    plt.tight_layout()\n",
    "    plt.show()\n",
    "\n",
    "# Deslizador interactivo para alpha y para iteraciones\n",
    "interact(entrenar_y_medir,\n",
    "         alpha=(0.000001, 0.2, 0.0001),\n",
    "         iteraciones=(10, 500, 10))"
   ],
   "execution_count": null,
   "outputs": []
  }
 ],
 "metadata": {
  "kernelspec": {
   "name": "ia_gradiente",
   "language": "python",
   "display_name": "Python (ia_gradiente)"
  }
 },
 "nbformat": 4,
 "nbformat_minor": 5
}
